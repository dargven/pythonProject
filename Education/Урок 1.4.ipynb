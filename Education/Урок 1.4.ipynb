{
 "nbformat": 4,
 "nbformat_minor": 0,
 "metadata": {
  "colab": {
   "name": "Урок 1.4.ipynb",
   "provenance": [],
   "collapsed_sections": [],
   "toc_visible": true,
   "authorship_tag": "ABX9TyPqAc0yEedwoeA6R1xoYXui"
  },
  "kernelspec": {
   "name": "python3",
   "display_name": "Python 3"
  },
  "language_info": {
   "name": "python"
  }
 },
 "cells": [
  {
   "cell_type": "markdown",
   "source": [
    "# Урок 1.4"
   ],
   "metadata": {
    "id": "paXSCcyR1BvW"
   }
  },
  {
   "cell_type": "markdown",
   "source": [
    "Давайте запустим первую программу на python! Для этого нужно нажать комбинацию клавиш shift + enter или на треугольничек в левой части строки."
   ],
   "metadata": {
    "id": "AxvzVb-g091N"
   }
  },
  {
   "cell_type": "code",
   "source": [
    "print('Hello world!')"
   ],
   "metadata": {
    "colab": {
     "base_uri": "https://localhost:8080/"
    },
    "id": "ng6ccz0S0-6P",
    "executionInfo": {
     "status": "ok",
     "timestamp": 1645790378160,
     "user_tz": -180,
     "elapsed": 244,
     "user": {
      "displayName": "Илья Витальевич Тихонов",
      "photoUrl": "https://lh3.googleusercontent.com/a/default-user=s64",
      "userId": "10513119548773881016"
     }
    },
    "outputId": "2145a509-f375-44ec-ad78-86778c091be6"
   },
   "execution_count": 1,
   "outputs": [
    {
     "name": "stdout",
     "output_type": "stream",
     "text": [
      "Hello world!\n"
     ]
    }
   ]
  },
  {
   "cell_type": "markdown",
   "source": [
    "То, что мы только что запустили называется ячейкой с кодом. Добавить такую ячейку можно в левой верхней части экрана + Сode\n",
    "\n",
    "В ней записан программный код на языке python, который будет выполняться подряд, строчка за строчкой, пока не дойдет до конца (при учете, что в нем нет ошибок).\n",
    "\n",
    "Помимо ячеек с кодом проект jupyter позволяет добавлять ячейки с текстом, в которых вы можете прокомментировать происходящее ниже. Эти ячейки поддерживают язык разметки markdown, который поможет вам в навигации по ноутбуку и сделает текст более читаемым, детальнее [тут](https://ru.wikipedia.org/wiki/Markdown)\n",
    "\n",
    "В результате запуска ячейки мы получили блок вывода с текстом - Hello world!. Команда print() выводит на экран объект, который мы передаем в нее (в скобочках).\n",
    "\n",
    "Перед тем, как мы начнем исследовать встроенные в питон функции вроде функции отображения на экран print() необходимо понять с чем мы будем работать - данные. Далее ознакомимся с типами данных, представленнх в языке."
   ],
   "metadata": {
    "id": "EBaMOs5q1Aer"
   }
  },
  {
   "cell_type": "markdown",
   "source": [
    "Отобразить справочную информацию о функции:"
   ],
   "metadata": {
    "id": "Yyr1GkYT49-c"
   }
  },
  {
   "cell_type": "code",
   "source": [
    "?print"
   ],
   "metadata": {
    "id": "7MtjyTPA4375",
    "executionInfo": {
     "status": "ok",
     "timestamp": 1645790432422,
     "user_tz": -180,
     "elapsed": 239,
     "user": {
      "displayName": "Илья Витальевич Тихонов",
      "photoUrl": "https://lh3.googleusercontent.com/a/default-user=s64",
      "userId": "10513119548773881016"
     }
    }
   },
   "execution_count": 3,
   "outputs": []
  },
  {
   "cell_type": "markdown",
   "source": [
    "На самом деле документация по языку уже есть [переведенная на русский язык](https://docs-python.ru/tutorial/)"
   ],
   "metadata": {
    "id": "GvLCJXbn5HHy"
   }
  },
  {
   "cell_type": "markdown",
   "source": [
    "## int\n",
    "**Целочисленный тип переменной в питоне**\n",
    "\n",
    "Чтобы задать переменную, не нужно указывать ее тип -- достаточно присвоить ей значение. При этом тип определится автоматически.\n",
    "\n",
    "Давайте попробуем завести переменную, присвоить ей значение -- целое число, и вывести на экран ее значение и тип (type):"
   ],
   "metadata": {
    "id": "jbJUpHKNG5Co"
   }
  },
  {
   "cell_type": "code",
   "source": [
    "x = 5\n",
    "\n",
    "print(x)"
   ],
   "metadata": {
    "colab": {
     "base_uri": "https://localhost:8080/"
    },
    "id": "ND-Q40AE3_CF",
    "executionInfo": {
     "status": "ok",
     "timestamp": 1645790534104,
     "user_tz": -180,
     "elapsed": 262,
     "user": {
      "displayName": "Илья Витальевич Тихонов",
      "photoUrl": "https://lh3.googleusercontent.com/a/default-user=s64",
      "userId": "10513119548773881016"
     }
    },
    "outputId": "696594e4-0491-46df-ef7b-0d6eaf4db7ff"
   },
   "execution_count": 4,
   "outputs": [
    {
     "output_type": "stream",
     "name": "stdout",
     "text": [
      "5\n"
     ]
    }
   ]
  },
  {
   "cell_type": "code",
   "source": [
    "# Команда type выводит на экран тип переменной.\n",
    "# Все, что находится после # является комментарием и не воспринимается языком как код\n",
    "print(type(x)) # комментарий может стоять и тут"
   ],
   "metadata": {
    "colab": {
     "base_uri": "https://localhost:8080/"
    },
    "id": "UjJ_d0j13_Rv",
    "executionInfo": {
     "status": "ok",
     "timestamp": 1645790562511,
     "user_tz": -180,
     "elapsed": 255,
     "user": {
      "displayName": "Илья Витальевич Тихонов",
      "photoUrl": "https://lh3.googleusercontent.com/a/default-user=s64",
      "userId": "10513119548773881016"
     }
    },
    "outputId": "b94d0060-2e3a-4411-e4dd-54a637ba5f80"
   },
   "execution_count": 2,
   "outputs": [
    {
     "ename": "NameError",
     "evalue": "name 'x' is not defined",
     "output_type": "error",
     "traceback": [
      "\u001B[1;31m---------------------------------------------------------------------------\u001B[0m",
      "\u001B[1;31mNameError\u001B[0m                                 Traceback (most recent call last)",
      "Cell \u001B[1;32mIn [2], line 3\u001B[0m\n\u001B[0;32m      1\u001B[0m \u001B[38;5;66;03m# Команда type выводит на экран тип переменной.\u001B[39;00m\n\u001B[0;32m      2\u001B[0m \u001B[38;5;66;03m# Все, что находится после # является комментарием и не воспринимается языком как код\u001B[39;00m\n\u001B[1;32m----> 3\u001B[0m \u001B[38;5;28mprint\u001B[39m(\u001B[38;5;28mtype\u001B[39m(\u001B[43mx\u001B[49m)) \u001B[38;5;66;03m# комментарий может стоять и тут\u001B[39;00m\n",
      "\u001B[1;31mNameError\u001B[0m: name 'x' is not defined"
     ]
    }
   ]
  },
  {
   "cell_type": "code",
   "source": [
    "'''\n",
    "Все что менжду тройными ковычками будет воспринято как длинный комментарий.\n",
    "Последнее значение переменной в ячейке или результат, возращаемый некой функцией\n",
    "по умолчанию отображается в jupyter средах.\n",
    "'''\n"
   ],
   "metadata": {
    "colab": {
     "base_uri": "https://localhost:8080/"
    },
    "id": "U6KqhL534CgG",
    "executionInfo": {
     "status": "ok",
     "timestamp": 1645790640609,
     "user_tz": -180,
     "elapsed": 435,
     "user": {
      "displayName": "Илья Витальевич Тихонов",
      "photoUrl": "https://lh3.googleusercontent.com/a/default-user=s64",
      "userId": "10513119548773881016"
     }
    },
    "outputId": "0a103c2a-8dd8-430f-88f9-9fc4fa0b92f3"
   },
   "execution_count": 6,
   "outputs": [
    {
     "output_type": "execute_result",
     "data": {
      "text/plain": [
       "5"
      ]
     },
     "metadata": {},
     "execution_count": 6
    }
   ]
  },
  {
   "cell_type": "code",
   "source": [
    "print(x, type(x))"
   ],
   "metadata": {
    "colab": {
     "base_uri": "https://localhost:8080/"
    },
    "id": "ZJ8NpBWJ4Dg-",
    "executionInfo": {
     "status": "ok",
     "timestamp": 1645790682426,
     "user_tz": -180,
     "elapsed": 259,
     "user": {
      "displayName": "Илья Витальевич Тихонов",
      "photoUrl": "https://lh3.googleusercontent.com/a/default-user=s64",
      "userId": "10513119548773881016"
     }
    },
    "outputId": "2d94629e-fc30-4749-c9ef-99ba14de3ed9"
   },
   "execution_count": 1,
   "outputs": [
    {
     "ename": "NameError",
     "evalue": "name 'x' is not defined",
     "output_type": "error",
     "traceback": [
      "\u001B[1;31m---------------------------------------------------------------------------\u001B[0m",
      "\u001B[1;31mNameError\u001B[0m                                 Traceback (most recent call last)",
      "Cell \u001B[1;32mIn [1], line 1\u001B[0m\n\u001B[1;32m----> 1\u001B[0m \u001B[38;5;28mprint\u001B[39m(\u001B[43mx\u001B[49m, \u001B[38;5;28mtype\u001B[39m(x))\n",
      "\u001B[1;31mNameError\u001B[0m: name 'x' is not defined"
     ]
    }
   ]
  },
  {
   "cell_type": "markdown",
   "source": [
    "Как видно, тип получившейся переменной -- int.\n",
    "\n",
    "C int'овыми переменными можно производить стандартные матеатические операции -- сложение, вычитание, умножение, деление, возведение в степень, взятие остатка при делении на число.\n",
    "\n",
    "Деление переменных типа int бывает двух типов -- целочисленное (с помощью символа //) и нецелочисленное (символ /). Результатом первого типа деления будет целое число, второго -- дробное. "
   ],
   "metadata": {
    "id": "MWiL-OwbG-eI"
   }
  },
  {
   "cell_type": "code",
   "source": [
    "a = 4 + 5\n",
    "b = 4 * 5\n",
    "c = 5 // 4 # целочисленное деление\n",
    "d = 5 / 4 # деление с остатком\n",
    "e = 5**4 # 5 в степени 4\n",
    "f = 5%4 # остаток при делении 5 на 4\n",
    "\n",
    "print(a, b, c, d, e, f)"
   ],
   "metadata": {
    "colab": {
     "base_uri": "https://localhost:8080/"
    },
    "id": "ze0dbWNyDYUN",
    "executionInfo": {
     "status": "ok",
     "timestamp": 1645790652899,
     "user_tz": -180,
     "elapsed": 231,
     "user": {
      "displayName": "Илья Витальевич Тихонов",
      "photoUrl": "https://lh3.googleusercontent.com/a/default-user=s64",
      "userId": "10513119548773881016"
     }
    },
    "outputId": "b4979eae-e0b6-413f-9637-f35a8c706b95"
   },
   "execution_count": 7,
   "outputs": [
    {
     "output_type": "stream",
     "name": "stdout",
     "text": [
      "9 20 1 1.25 625 1\n"
     ]
    }
   ]
  },
  {
   "cell_type": "markdown",
   "source": [
    "Замечание:\n",
    "\n",
    "Запись a = a + 1 эквивалентна a += 1. Аналогичная сокращенная запсь оператора присвоения работает и с любыми другими операциями, например х *= 2 эквивалентно х = х*2"
   ],
   "metadata": {
    "id": "epE4NRtIgiHI"
   }
  },
  {
   "cell_type": "markdown",
   "source": [
    "Кроме этого бинарные битовые операции: сдвиг вправо (>>), сдвиг влево (<<), битовое «И» (&), битовое «исключающее или» (∧), битовое «или» (|) и унарная битовая инверсия (`)\n"
   ],
   "metadata": {
    "id": "uPfBViGnH4ez"
   }
  },
  {
   "cell_type": "markdown",
   "source": [
    "Также язык питон удобен в работе с большими числами:\n",
    "\n",
    "Давайте попробуем положить в переменную число 5000000000000000000000000001:"
   ],
   "metadata": {
    "id": "JEU4zLpMI2E6"
   }
  },
  {
   "cell_type": "code",
   "source": [
    "x = 5 * 1000000 * 1000000000 * 10**9 + 1\n",
    "print(x, '|', type(x))"
   ],
   "metadata": {
    "colab": {
     "base_uri": "https://localhost:8080/"
    },
    "id": "8YWKEaguG_3G",
    "executionInfo": {
     "status": "ok",
     "timestamp": 1645790756583,
     "user_tz": -180,
     "elapsed": 257,
     "user": {
      "displayName": "Илья Витальевич Тихонов",
      "photoUrl": "https://lh3.googleusercontent.com/a/default-user=s64",
      "userId": "10513119548773881016"
     }
    },
    "outputId": "6c3f7138-f68d-45c7-90ed-c6025bb84749"
   },
   "execution_count": 9,
   "outputs": [
    {
     "output_type": "stream",
     "name": "stdout",
     "text": [
      "5000000000000000000000001 | <class 'int'>\n"
     ]
    }
   ]
  },
  {
   "cell_type": "markdown",
   "source": [
    "Как видите, все получилось: полученная переменная типа int и с ней можно работать как с обычными числами. Во многих других языках (например, С++) положить такое большое число в переменную бы не вышло -- возникло бы переполнение памяти."
   ],
   "metadata": {
    "id": "s0pabUC7JnHq"
   }
  },
  {
   "cell_type": "markdown",
   "source": [
    "## float\n",
    "\n",
    "**Тип переменной для хранения дробных чисел в питоне**:\n",
    "\n",
    "Вещественные числа реализованы на основе чисел с плавающей точкой двойной точности - double (64 бита). 1 бит на знак, 11 бит на показатель экспоненты и 52 бита на значащую часть (мантиссу). Примеры: 3.0, -123.345, 23.490e23, 4.6692016091029906718532038204662016172581855774757686327456513430."
   ],
   "metadata": {
    "id": "POGzfQN9Jq9t"
   }
  },
  {
   "cell_type": "code",
   "source": [
    "y = 12.345\n",
    "\n",
    "print(y, '|', type(y))"
   ],
   "metadata": {
    "colab": {
     "base_uri": "https://localhost:8080/"
    },
    "id": "_ffccgzvI3WN",
    "executionInfo": {
     "status": "ok",
     "timestamp": 1645790774769,
     "user_tz": -180,
     "elapsed": 250,
     "user": {
      "displayName": "Илья Витальевич Тихонов",
      "photoUrl": "https://lh3.googleusercontent.com/a/default-user=s64",
      "userId": "10513119548773881016"
     }
    },
    "outputId": "1d9c608c-0ff6-4d59-f196-3f3f9e78b505"
   },
   "execution_count": 10,
   "outputs": [
    {
     "output_type": "stream",
     "name": "stdout",
     "text": [
      "12.345 | <class 'float'>\n"
     ]
    }
   ]
  },
  {
   "cell_type": "code",
   "source": [
    "a = 4.2 + 5.1\n",
    "b = 4.2 * 5.1\n",
    "c = 5.0 / 4.0\n",
    "d = 5.25 // 4.25\n",
    "e = 5.25 ** 4.0\n",
    "\n",
    "print(a, b, c, d, e)"
   ],
   "metadata": {
    "colab": {
     "base_uri": "https://localhost:8080/"
    },
    "id": "l_3rG8DRJtJJ",
    "executionInfo": {
     "status": "ok",
     "timestamp": 1645790785855,
     "user_tz": -180,
     "elapsed": 277,
     "user": {
      "displayName": "Илья Витальевич Тихонов",
      "photoUrl": "https://lh3.googleusercontent.com/a/default-user=s64",
      "userId": "10513119548773881016"
     }
    },
    "outputId": "53625ba2-f636-44d5-836a-9d920babe897"
   },
   "execution_count": 11,
   "outputs": [
    {
     "output_type": "stream",
     "name": "stdout",
     "text": [
      "9.3 21.419999999999998 1.25 1.0 759.69140625\n"
     ]
    }
   ]
  },
  {
   "cell_type": "markdown",
   "source": [
    "## Приведение типов"
   ],
   "metadata": {
    "id": "SiAoqozsMcNO"
   }
  },
  {
   "cell_type": "markdown",
   "source": [
    "Как Python определяет тип числового выражения, если в таком выражении могут встретиться значения и переменные разных типов? Это может быть сделано двумя разными способами -- или автоматически (такой способ\n",
    "называется неявным приведением типа), или путем явного указания типа, который должен иметь результат\n",
    "вычисления выражения."
   ],
   "metadata": {
    "id": "LTl5lX1SLn7H"
   }
  },
  {
   "cell_type": "markdown",
   "source": [
    "### Неявное приведение типов\n",
    "\n",
    "Тип числового выражения определяется типом наиболее \"сложного\" из входящих значений и переменных. Числовые типы упорядочены по сложности так: целый < вещественный."
   ],
   "metadata": {
    "id": "scfzuDUuLy04"
   }
  },
  {
   "cell_type": "code",
   "source": [
    "5 / 4"
   ],
   "metadata": {
    "colab": {
     "base_uri": "https://localhost:8080/"
    },
    "id": "A7dBIY_6Jt-A",
    "executionInfo": {
     "status": "ok",
     "timestamp": 1645790877549,
     "user_tz": -180,
     "elapsed": 251,
     "user": {
      "displayName": "Илья Витальевич Тихонов",
      "photoUrl": "https://lh3.googleusercontent.com/a/default-user=s64",
      "userId": "10513119548773881016"
     }
    },
    "outputId": "9382165f-7097-41e9-ad26-db5c84fcdb90"
   },
   "execution_count": 12,
   "outputs": [
    {
     "output_type": "execute_result",
     "data": {
      "text/plain": [
       "1.25"
      ]
     },
     "metadata": {},
     "execution_count": 12
    }
   ]
  },
  {
   "cell_type": "markdown",
   "source": [
    "Замечание: можно проводить сразу много операций с числовыми выражениями, круглые скобки определяют принятый в алгебре порядок операций."
   ],
   "metadata": {
    "id": "wzvKV582P9Wa"
   }
  },
  {
   "cell_type": "code",
   "source": [
    "5 // (5 % 3)"
   ],
   "metadata": {
    "colab": {
     "base_uri": "https://localhost:8080/"
    },
    "id": "1MgJC8iQKWOW",
    "executionInfo": {
     "status": "ok",
     "timestamp": 1645790886811,
     "user_tz": -180,
     "elapsed": 259,
     "user": {
      "displayName": "Илья Витальевич Тихонов",
      "photoUrl": "https://lh3.googleusercontent.com/a/default-user=s64",
      "userId": "10513119548773881016"
     }
    },
    "outputId": "ce08d06d-09d0-450e-ecf5-78758934b2ba"
   },
   "execution_count": 13,
   "outputs": [
    {
     "output_type": "execute_result",
     "data": {
      "text/plain": [
       "2"
      ]
     },
     "metadata": {},
     "execution_count": 13
    }
   ]
  },
  {
   "cell_type": "markdown",
   "source": [
    "### Явное приведение типов\n",
    "\n",
    "Для явного приведения выражения к нужному типу необходимо использовать встроенные функции int(), float(). Каждая зависит от одного аргумента и переводит его в целый и вещественный тип соответственно."
   ],
   "metadata": {
    "id": "0U7f9V8mMjk3"
   }
  },
  {
   "cell_type": "code",
   "source": [
    "float(-2 ** 20)"
   ],
   "metadata": {
    "colab": {
     "base_uri": "https://localhost:8080/"
    },
    "id": "EZOjiD9lL-Bf",
    "executionInfo": {
     "status": "ok",
     "timestamp": 1644791276633,
     "user_tz": -180,
     "elapsed": 2,
     "user": {
      "displayName": "Илья Витальевич Тихонов",
      "photoUrl": "https://lh3.googleusercontent.com/a/default-user=s64",
      "userId": "10513119548773881016"
     }
    },
    "outputId": "2a302dcd-504a-4de2-dc1c-034f40b1c7ac"
   },
   "execution_count": null,
   "outputs": [
    {
     "output_type": "execute_result",
     "data": {
      "text/plain": [
       "-1048576.0"
      ]
     },
     "metadata": {},
     "execution_count": 38
    }
   ]
  },
  {
   "cell_type": "code",
   "source": [
    "print(2**10101%3)"
   ],
   "metadata": {
    "colab": {
     "base_uri": "https://localhost:8080/"
    },
    "id": "P0z_vR4BMvus",
    "executionInfo": {
     "status": "ok",
     "timestamp": 1645790926899,
     "user_tz": -180,
     "elapsed": 274,
     "user": {
      "displayName": "Илья Витальевич Тихонов",
      "photoUrl": "https://lh3.googleusercontent.com/a/default-user=s64",
      "userId": "10513119548773881016"
     }
    },
    "outputId": "bfd8d15d-05a7-4b4d-8fe0-c337eebea79c"
   },
   "execution_count": 10,
   "outputs": [
    {
     "name": "stdout",
     "output_type": "stream",
     "text": [
      "2\n"
     ]
    }
   ]
  }
 ]
}
